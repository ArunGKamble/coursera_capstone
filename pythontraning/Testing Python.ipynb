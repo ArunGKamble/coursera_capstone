{
    "cells": [
        {
            "metadata": {},
            "cell_type": "code",
            "source": "#class declaration and defenition without constructor \n\nclass Fruits:\n    color = \"defining color\"\n    taste = \"defining taste\"\n    shape = \"defining shape\"\n    print(\"default values are \" + color + \" and \" + taste)\n    #above print is printed when the class is executed at the time of creation only\n    #def getVar():\n    #    print(\"inside getvar values are \" + color + \" and \" + taste)\n    \n    \n    #since above was giving error we are adding self; self could be any steing you want\n    def getVar(self):\n        print(\"inside getvar values are \" + self.color + \" and \" + self.taste)\n    \n    \n    #adding constructor with only self and not variable parameters\n    def __init__ (self): #param self is required as while object creation object is passed as self\n        self.color = \"black\"\n        self.taste = \"tasteless\"\n\n    #adding constructor with only self as well as variable parameters\n    def __init__ (self, a =\"\", b=\"\" ): #param self is required as while object creation object is passed as self\n        self.color = a\n        self.taste = b\n\n\n    #adding constructor with only self as well as variable parameters\n    def __init__ (self, a =\"\", b=\"\" , c =\"\"): #param self is required as while object creation object is passed as self\n        self.color = a\n        self.taste = b\n        self.shape = \"random\"\n        \n        \n        \n    #adding constructor with only self as well as variable parameters\n    def __init__ (self,a=\"\" ,b=\"\"): #param self is required as while object creation object is passed as self\n        self.color = a\n        self.taste = b\n\n#from above we see constructor overloading is not possible\n#it takes last or latest defined constructor\n#we have to write parameter as a=\"\" , if we only write a then it will definitely require parameter, that is in this case it will not create objec of orange\n#but if you write a=\"\" , this will allow to create orange object with only self",
            "execution_count": 60,
            "outputs": [
                {
                    "output_type": "stream",
                    "text": "default values are defining color and defining taste\n",
                    "name": "stdout"
                }
            ]
        },
        {
            "metadata": {},
            "cell_type": "code",
            "source": "#creating object \n\n\norange = Fruits(\"checkwhat\") # since class defines is not having any constructers and not taking any parameter\n\nprint(\"Orange\")\n#print orange details before mnually setting\nprint(\"constructor color is \" + orange.color)\nprint(\"constructor taste is \" + orange.taste)\nprint(\"constructor shape is \" + orange.shape)\n\n\n\napple = Fruits(\"red\",\"sweet\") #using constructor with params\n#print apple details before mnually setting\nprint(\"Apple\")\nprint(\"constructor color is \" + apple.color)\nprint(\"constructor taste is \" + apple.taste)\nprint(\"constructor shape is \" + apple.shape)\n\n\n#set color of orange\norange.color = \"Orange\"\n\n#set taste of orange\norange.taste=\"sweet\"\n\n#print orange details\nprint(\"color is \" + orange.color)\nprint(\"taste is \" + orange.taste)\n\n#set extra variable of orange which is not in class Fruits\norange.shape = \"circle\"\nprint(\"extra variable shape of orange is \" + orange.shape)\n\norange.getVar() #here by default self object is passed as parameter and since we did not added sel as parameter while defining the function, this will give error as takes 0 param but 1 param was given\n\n#so to avoid this, use self as parameter while declaring function\n#that is def getVar(self) and user variable as self.xx (this will access the variable value for the passed object which is self)o",
            "execution_count": 62,
            "outputs": [
                {
                    "output_type": "stream",
                    "text": "Orange\nconstructor color is checkwhat\nconstructor taste is \nconstructor shape is defining shape\n",
                    "name": "stdout"
                },
                {
                    "output_type": "error",
                    "ename": "TypeError",
                    "evalue": "__init__() takes from 1 to 3 positional arguments but 4 were given",
                    "traceback": [
                        "\u001b[0;31m---------------------------------------------------------------------------\u001b[0m",
                        "\u001b[0;31mTypeError\u001b[0m                                 Traceback (most recent call last)",
                        "\u001b[0;32m<ipython-input-62-c8224ae11276>\u001b[0m in \u001b[0;36m<module>\u001b[0;34m\u001b[0m\n\u001b[1;32m     12\u001b[0m \u001b[0;34m\u001b[0m\u001b[0m\n\u001b[1;32m     13\u001b[0m \u001b[0;34m\u001b[0m\u001b[0m\n\u001b[0;32m---> 14\u001b[0;31m \u001b[0mapple\u001b[0m \u001b[0;34m=\u001b[0m \u001b[0mFruits\u001b[0m\u001b[0;34m(\u001b[0m\u001b[0;34m\"red\"\u001b[0m\u001b[0;34m,\u001b[0m\u001b[0;34m\"sweet\"\u001b[0m\u001b[0;34m,\u001b[0m\u001b[0;34m\"noname\"\u001b[0m\u001b[0;34m)\u001b[0m \u001b[0;31m#using constructor with params\u001b[0m\u001b[0;34m\u001b[0m\u001b[0;34m\u001b[0m\u001b[0m\n\u001b[0m\u001b[1;32m     15\u001b[0m \u001b[0;31m#print apple details before mnually setting\u001b[0m\u001b[0;34m\u001b[0m\u001b[0;34m\u001b[0m\u001b[0;34m\u001b[0m\u001b[0m\n\u001b[1;32m     16\u001b[0m \u001b[0mprint\u001b[0m\u001b[0;34m(\u001b[0m\u001b[0;34m\"Apple\"\u001b[0m\u001b[0;34m)\u001b[0m\u001b[0;34m\u001b[0m\u001b[0;34m\u001b[0m\u001b[0m\n",
                        "\u001b[0;31mTypeError\u001b[0m: __init__() takes from 1 to 3 positional arguments but 4 were given"
                    ]
                }
            ]
        },
        {
            "metadata": {},
            "cell_type": "code",
            "source": "#print variable of class directly (just like static class in c++)\nprint(\"Fruits class value of color is \" + Fruits.color)\n\n#set Fruit class color value\nFruits.color = \"default color\"\n\n#print Fruit class color after setting\nprint(\"Fruits class new value of color is \" + Fruits.color)\n",
            "execution_count": 14,
            "outputs": [
                {
                    "output_type": "stream",
                    "text": "Fruits class value of color is \nFruits class new value of color is default color\n",
                    "name": "stdout"
                }
            ]
        },
        {
            "metadata": {},
            "cell_type": "code",
            "source": "#now we define a constructor in class as it is easy to assign values to variable while creation of class objects\n\n# def __init__ (self):\n",
            "execution_count": null,
            "outputs": []
        }
    ],
    "metadata": {
        "kernelspec": {
            "name": "python3",
            "display_name": "Python 3.6",
            "language": "python"
        },
        "language_info": {
            "name": "python",
            "version": "3.6.9",
            "mimetype": "text/x-python",
            "codemirror_mode": {
                "name": "ipython",
                "version": 3
            },
            "pygments_lexer": "ipython3",
            "nbconvert_exporter": "python",
            "file_extension": ".py"
        }
    },
    "nbformat": 4,
    "nbformat_minor": 1
}